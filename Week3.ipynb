{
 "nbformat": 4,
 "nbformat_minor": 0,
 "metadata": {
  "colab": {
   "name": "Week3.ipynb",
   "provenance": []
  },
  "kernelspec": {
   "name": "python3",
   "language": "python",
   "display_name": "Python 3"
  }
 },
 "cells": [
  {
   "cell_type": "code",
   "metadata": {
    "id": "wpas7fDSJuGa",
    "colab": {
     "base_uri": "https://localhost:8080/"
    },
    "outputId": "384a2afd-d30f-4463-b253-e20497bd5d8d"
   },
   "source": [
    "from google.colab import drive\r\n",
    "drive.mount('/content/drive')"
   ],
   "execution_count": 2,
   "outputs": [
    {
     "ename": "ModuleNotFoundError",
     "evalue": "No module named 'google'",
     "output_type": "error",
     "traceback": [
      "\u001B[1;31m---------------------------------------------------------------------------\u001B[0m",
      "\u001B[1;31mModuleNotFoundError\u001B[0m                       Traceback (most recent call last)",
      "\u001B[1;32m<ipython-input-2-b80391d2b2cf>\u001B[0m in \u001B[0;36m<module>\u001B[1;34m\u001B[0m\n\u001B[1;32m----> 1\u001B[1;33m \u001B[1;32mfrom\u001B[0m \u001B[0mgoogle\u001B[0m\u001B[1;33m.\u001B[0m\u001B[0mcolab\u001B[0m \u001B[1;32mimport\u001B[0m \u001B[0mdrive\u001B[0m\u001B[1;33m\u001B[0m\u001B[1;33m\u001B[0m\u001B[0m\n\u001B[0m\u001B[0;32m      2\u001B[0m \u001B[0mdrive\u001B[0m\u001B[1;33m.\u001B[0m\u001B[0mmount\u001B[0m\u001B[1;33m(\u001B[0m\u001B[1;34m'/content/drive'\u001B[0m\u001B[1;33m)\u001B[0m\u001B[1;33m\u001B[0m\u001B[1;33m\u001B[0m\u001B[0m\n\u001B[0;32m      3\u001B[0m \u001B[1;33m\u001B[0m\u001B[0m\n",
      "\u001B[1;31mModuleNotFoundError\u001B[0m: No module named 'google'"
     ]
    }
   ]
  },
  {
   "cell_type": "code",
   "metadata": {
    "colab": {
     "base_uri": "https://localhost:8080/",
     "height": 324
    },
    "id": "UDKyL-WqMG0O",
    "outputId": "648069d2-cf40-43aa-f272-cd624db3ca09"
   },
   "source": [
    "import cv2 as cv\r\n",
    "from google.colab.patches import cv2_imshow\r\n",
    "from skimage import io\r\n",
    "import matplotlib.pyplot as plt\r\n",
    "import numpy as np\r\n",
    "import cv2 as cv\r\n",
    "\r\n",
    "print('Mengubah tingkat kecerahan citra')\r\n",
    "print('--------------------------------')\r\n",
    "try:\r\n",
    "  brightness = int(input('Masukkan nilai kecerahan: '))\r\n",
    "except ValueError:\r\n",
    "  print('Error, not a number')\r\n",
    "\r\n",
    "original = cv.imread('/content/drive/MyDrive/PCVK_MM/Images/female.tiff')\r\n",
    "brightness_image = np.zeros(original.shape, original.dtype)\r\n",
    "\r\n",
    "# akses per piksel\r\n",
    "for y in range(original.shape[0]):\r\n",
    "  for x in range(original.shape[1]):\r\n",
    "    for c in range(original.shape[2]):\r\n",
    "      brightness_image[y,x,c] = np.clip(original[y,x,c] + brightness, 0, 255)\r\n",
    "\r\n",
    "# cara simple tanpa for loop\r\n",
    "#brightness_image = cv.convertScaleAbs(original, beta-brightness)\r\n",
    "\r\n",
    "final_frame = cv.hconcat((original, brightness_image))\r\n",
    "cv2_imshow(final_frame)"
   ],
   "execution_count": null,
   "outputs": []
  },
  {
   "cell_type": "markdown",
   "metadata": {
    "id": "IGUJfeO-M-XK"
   },
   "source": [
    "**TUGAS PRAKTIKUM**\r\n",
    "\r\n",
    "Implementasikan transformasi contrast pada Google Colaboratory menggunakan formula yang terdapat pada bagian Ulasan Teori, sehingga menghasilkan keluaran seperti berikut:"
   ]
  },
  {
   "cell_type": "code",
   "metadata": {
    "colab": {
     "base_uri": "https://localhost:8080/",
     "height": 341
    },
    "id": "2km7W_hfNUwv",
    "outputId": "ef971192-0391-497c-e9a4-cc5374488238"
   },
   "source": [
    "print('Mengubah kontras dan tingkat kecerahan citra')\r\n",
    "print('--------------------------------------------')\r\n",
    "try :\r\n",
    "  brightness = int(input('Masukkan nilai kecerahan [-255 - 255]: '))\r\n",
    "  contrast = float(input('Masukkan kontras [1.0 - 3.0]: '))\r\n",
    "except ValueError:\r\n",
    "  print('Error, not a number')\r\n",
    "\r\n",
    "\r\n",
    "original = cv.imread('/content/drive/MyDrive/PCVK_MM/Images/female.tiff')\r\n",
    "contrast_image = np.zeros(original.shape, original.dtype)\r\n",
    "\r\n",
    "for y in range(original.shape[0]):\r\n",
    "  for x in range(original.shape[1]):\r\n",
    "    for c in range(original.shape[2]):\r\n",
    "      contrast_image[y,x,c] = np.clip(contrast*original[y,x,c] + brightness, 0, 255)\r\n",
    "\r\n",
    "\r\n",
    "final_frame = cv.hconcat((original, contrast_image))\r\n",
    "cv2_imshow(final_frame)"
   ],
   "execution_count": null,
   "outputs": []
  },
  {
   "cell_type": "markdown",
   "metadata": {
    "id": "LdjtH9mINfmq"
   },
   "source": [
    "Implementasikan transformasi logarithmic brightness pada Google Colaboratory\r\n",
    "menggunakan formula yang terdapat pada bagian Ulasan Teori, sehingga\r\n",
    "menghasilkan keluaran seperti berikut:"
   ]
  },
  {
   "cell_type": "code",
   "metadata": {
    "colab": {
     "base_uri": "https://localhost:8080/",
     "height": 324
    },
    "id": "v6P9pRU8Nnxp",
    "outputId": "8b4abfab-01f4-4392-de93-11da1c92ca70"
   },
   "source": [
    "print('Mengubah tingkat kecerahan citra dengan Transformasi Log')\r\n",
    "print('--------------------------------------------------------')\r\n",
    "try:\r\n",
    "  brightness = int(input('Masukkan nilai kecerahan: '))\r\n",
    "except ValueError:\r\n",
    "  print('Error, not a number')\r\n",
    "\r\n",
    "original = cv.imread('/content/drive/MyDrive/PCVK_MM/Images/female.tiff')\r\n",
    "brightness_image = np.zeros(original.shape, original.dtype)\r\n",
    "\r\n",
    "# akses per piksel\r\n",
    "for y in range(original.shape[0]):\r\n",
    "  for x in range(original.shape[1]):\r\n",
    "    for c in range(original.shape[2]):\r\n",
    "      brightness_image[y,x,c] = np.clip(brightness * (np.log(1 + original[y,x,c])), 0, 255)\r\n",
    "\r\n",
    "final_frame = cv.hconcat((original, brightness_image))\r\n",
    "cv2_imshow(final_frame)"
   ],
   "execution_count": null,
   "outputs": []
  },
  {
   "cell_type": "markdown",
   "metadata": {
    "id": "316MA1NTNxve"
   },
   "source": [
    "Implementasikan transformasi grayscale menggunakan metode averaging, lightness,\r\n",
    "dan luminance pada Google Colaboratory menggunakan formula yang terdapat pada\r\n",
    "bagian Ulasan Teori, sehingga menghasilkan keluaran seperti berikut:\r\n"
   ]
  },
  {
   "cell_type": "code",
   "metadata": {
    "colab": {
     "base_uri": "https://localhost:8080/",
     "height": 286
    },
    "id": "JRajWs3XN73r",
    "outputId": "a215fe94-fbc7-480f-d7e0-3f34affcd42d"
   },
   "source": [
    "img_m = cv.imread('/content/drive/MyDrive/PCVK_MM/Images/mandrill.tiff')\r\n",
    "img_rgb = cv.cvtColor(img_m,cv.COLOR_BGR2RGB) # konversi channel BGR -> RGB\r\n",
    "plt.imshow(img_rgb)"
   ],
   "execution_count": null,
   "outputs": []
  },
  {
   "cell_type": "code",
   "metadata": {
    "colab": {
     "base_uri": "https://localhost:8080/",
     "height": 221
    },
    "id": "8cSmFJ2MORRb",
    "outputId": "4fbb8edf-63e7-4cb0-a256-052466e2ad0d"
   },
   "source": [
    "# a. Averaging)\r\n",
    "img_avg = cv.imread('/content/drive/MyDrive/PCVK_MM/Images/mandrill.tiff')\r\n",
    "img_avg[:] = img_avg.mean(axis=-1, keepdims=1)\r\n",
    "fig, ax = plt.subplots(1,2)\r\n",
    "ax[0].imshow(img_rgb)\r\n",
    "ax[1].imshow(img_avg)"
   ],
   "execution_count": null,
   "outputs": []
  },
  {
   "cell_type": "code",
   "metadata": {
    "colab": {
     "base_uri": "https://localhost:8080/",
     "height": 221
    },
    "id": "XOqxKFFcOWxg",
    "outputId": "0cb6b8a7-ff44-49b0-f5b4-94c5624e5917"
   },
   "source": [
    "# b. Lightness)\r\n",
    "img_light = cv.imread('/content/drive/MyDrive/PCVK_MM/Images/mandrill.tiff')\r\n",
    "img_light[:] = np.max(img_light,axis=-1,keepdims=10)/2+np.min(img_light,axis=-1,keepdims=10)/2\r\n",
    "fig, ax = plt.subplots(1,2)\r\n",
    "ax[0].imshow(img_rgb)\r\n",
    "ax[1].imshow(img_light)"
   ],
   "execution_count": null,
   "outputs": []
  },
  {
   "cell_type": "code",
   "metadata": {
    "colab": {
     "base_uri": "https://localhost:8080/",
     "height": 221
    },
    "id": "e9Et04tBOhMo",
    "outputId": "9d8d0c7e-ed51-4675-a917-4cc2c6e2926b"
   },
   "source": [
    "# c. Luminance)\r\n",
    "image_lum = cv.imread('/content/drive/MyDrive/PCVK_MM/Images/mandrill.tiff')\r\n",
    "R, G, B = image_lum[:,:,0], image_lum[:,:,1], image_lum[:,:,2]\r\n",
    "gray_image_lum = (0.21 * R) + (0.72 * G) + (0.07 * B)\r\n",
    "fig, ax = plt.subplots(1,2)\r\n",
    "ax[0].imshow(img_rgb)\r\n",
    "ax[1].imshow(gray_image_lum, cmap='gray')"
   ],
   "execution_count": null,
   "outputs": []
  },
  {
   "cell_type": "markdown",
   "metadata": {
    "id": "bovHzeOuOnaL"
   },
   "source": [
    "tampilkanlah warna tertentu pada citra, dan ubah warna lain menjadi grayscale. Misal, tampilkan warna merah pada citra masukan dan ubah bagian lain yang tidak berwarna merah menjadi grayscale seperti pada contoh berikut:"
   ]
  },
  {
   "cell_type": "code",
   "metadata": {
    "colab": {
     "base_uri": "https://localhost:8080/",
     "height": 221
    },
    "id": "FG4DgiltOoFA",
    "outputId": "81dc0a1b-88ad-45f2-b216-e02a88ebca65"
   },
   "source": [
    "img_4 = cv.imread('/content/drive/MyDrive/PCVK_MM/Images/mandrill.tiff')\r\n",
    "ret, mask = cv.threshold(img_4[:,:,2], 180, 255, cv.THRESH_BINARY)\r\n",
    "\r\n",
    "mask3 = np.zeros_like(img_4)\r\n",
    "mask3[:,:,0] = mask\r\n",
    "mask3[:,:,1] = mask\r\n",
    "mask3[:,:,2] = mask\r\n",
    "\r\n",
    "red = cv.bitwise_and(img_rgb, mask3)\r\n",
    "\r\n",
    "gray = cv.cvtColor(img_4, cv.COLOR_BGR2GRAY)\r\n",
    "img_4 = cv.cvtColor(gray, cv.COLOR_GRAY2BGR)\r\n",
    "\r\n",
    "gray = cv.bitwise_and(img_4, 255 - mask3)\r\n",
    "\r\n",
    "out = gray + red\r\n",
    "\r\n",
    "fig, ax = plt.subplots(1,2)\r\n",
    "ax[0].imshow(img_rgb)\r\n",
    "ax[1].imshow(out, cmap='gray')"
   ],
   "execution_count": null,
   "outputs": []
  }
 ]
}